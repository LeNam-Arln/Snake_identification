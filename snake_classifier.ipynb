{
 "cells": [
  {
   "cell_type": "code",
   "execution_count": 1,
   "id": "7224193d",
   "metadata": {},
   "outputs": [
    {
     "name": "stderr",
     "output_type": "stream",
     "text": [
      "c:\\Users\\hoang\\AppData\\Local\\Programs\\Python\\Python312\\Lib\\site-packages\\tqdm\\auto.py:21: TqdmWarning: IProgress not found. Please update jupyter and ipywidgets. See https://ipywidgets.readthedocs.io/en/stable/user_install.html\n",
      "  from .autonotebook import tqdm as notebook_tqdm\n"
     ]
    }
   ],
   "source": [
    "import os\n",
    "import torch\n",
    "import timm\n",
    "import numpy as np\n",
    "from torch import nn\n",
    "from torch.utils.data import DataLoader\n",
    "from torchvision import datasets\n",
    "from torchvision import transforms as T\n",
    "from albumentations.pytorch import ToTensorV2\n",
    "import albumentations as A\n",
    "from torchvision.datasets import ImageFolder\n",
    "from torchvision.transforms import ToPILImage\n",
    "from torch.utils.data import random_split\n",
    "from torchvision.datasets.folder import default_loader\n",
    "from tqdm import tqdm\n"
   ]
  },
  {
   "cell_type": "code",
   "execution_count": 2,
   "id": "f4b04dde",
   "metadata": {},
   "outputs": [],
   "source": [
    "# ============ Config =============\n",
    "BATCH_SIZE = 32\n",
    "NUM_CLASSES = 5\n",
    "EPOCHS = 10\n",
    "DEVICE = torch.device(\"cuda\" if torch.cuda.is_available() else \"cpu\")\n",
    "DATA_DIR = './dataset/dataset_raw/'"
   ]
  },
  {
   "cell_type": "code",
   "execution_count": 3,
   "id": "45a973be",
   "metadata": {},
   "outputs": [
    {
     "name": "stderr",
     "output_type": "stream",
     "text": [
      "c:\\Users\\hoang\\AppData\\Local\\Programs\\Python\\Python312\\Lib\\site-packages\\albumentations\\core\\validation.py:111: UserWarning: ShiftScaleRotate is a special case of Affine transform. Please use Affine transform instead.\n",
      "  original_init(self, **validated_kwargs)\n"
     ]
    }
   ],
   "source": [
    "IMG_SIZE = 224\n",
    "\n",
    "train_transform = A.Compose([\n",
    "    A.RandomResizedCrop(size=(IMG_SIZE, IMG_SIZE), scale=(0.8, 1.0)),\n",
    "    A.HorizontalFlip(p=0.5),\n",
    "    A.VerticalFlip(p=0.5),\n",
    "    A.ShiftScaleRotate(shift_limit=0.05, scale_limit=0.05, rotate_limit=15, p=0.5),\n",
    "    A.Normalize(mean=(0.485, 0.456, 0.406), std=(0.229, 0.224, 0.225)),\n",
    "    ToTensorV2()\n",
    "])\n",
    "\n",
    "val_transform = A.Compose([\n",
    "    A.Resize(IMG_SIZE, IMG_SIZE),\n",
    "    A.Normalize(mean=(0.485, 0.456, 0.406), std=(0.229, 0.224, 0.225)),\n",
    "    ToTensorV2()\n",
    "])\n"
   ]
  },
  {
   "cell_type": "code",
   "execution_count": 4,
   "id": "aac99b7d",
   "metadata": {},
   "outputs": [],
   "source": [
    "# ============ Custom Dataset =============\n",
    "from torch.utils.data import Dataset\n",
    "import cv2\n",
    "\n",
    "class AlbumentationsDataset(Dataset):\n",
    "    def __init__(self, dataset, transform):\n",
    "        self.dataset = dataset\n",
    "        self.transform = transform\n",
    "\n",
    "    def __len__(self):\n",
    "        return len(self.dataset)\n",
    "\n",
    "    def __getitem__(self, idx):\n",
    "        # path, label = self.dataset.samples[idx]\n",
    "        # Đúng:\n",
    "        path, label = self.dataset.dataset.samples[idx]\n",
    "        image = cv2.imread(path)\n",
    "        image = cv2.cvtColor(image, cv2.COLOR_BGR2RGB)\n",
    "        image = self.transform(image=image)['image']\n",
    "        return image, label"
   ]
  },
  {
   "cell_type": "code",
   "execution_count": 5,
   "id": "c8aebb01",
   "metadata": {},
   "outputs": [],
   "source": [
    "from torch.utils.data import Subset\n",
    "dataset = ImageFolder(DATA_DIR)\n",
    "targets = [sample[1] for sample in dataset.samples]\n",
    "\n",
    "from sklearn.model_selection import train_test_split\n",
    "train_idx, val_idx = train_test_split(\n",
    "    list(range(len(targets))),\n",
    "    test_size=0.2,\n",
    "    stratify=targets,\n",
    "    random_state=42\n",
    ")\n",
    "\n",
    "train_ds = Subset(dataset, train_idx)\n",
    "val_ds = Subset(dataset, val_idx)\n",
    "\n",
    "train_ds = AlbumentationsDataset(train_ds, train_transform)\n",
    "val_ds = AlbumentationsDataset(val_ds, val_transform)\n",
    "\n",
    "train_loader = DataLoader(train_ds, batch_size=BATCH_SIZE, shuffle=True)\n",
    "val_loader = DataLoader(val_ds, batch_size=BATCH_SIZE, shuffle=False)\n"
   ]
  },
  {
   "cell_type": "code",
   "execution_count": 6,
   "id": "6303445f",
   "metadata": {},
   "outputs": [],
   "source": [
    "# ============ Model Setup =============\n",
    "model = timm.create_model('efficientnet_b0', pretrained=True, num_classes=NUM_CLASSES)\n",
    "model.to(DEVICE)\n",
    "\n",
    "criterion = nn.CrossEntropyLoss()\n",
    "optimizer = torch.optim.Adam(model.parameters(), lr=1e-4)"
   ]
  },
  {
   "cell_type": "code",
   "execution_count": 7,
   "id": "e8f7d055",
   "metadata": {},
   "outputs": [],
   "source": [
    "train_losses = []\n",
    "train_accuracies = []\n",
    "val_losses = []\n",
    "val_accuracies = []\n",
    "\n",
    "# ============ Training Loop =============\n",
    "def train(model, train_loader, val_loader):\n",
    "    for epoch in range(EPOCHS):\n",
    "        model.train()\n",
    "        train_loss = 0\n",
    "        correct = 0\n",
    "        total = 0\n",
    "\n",
    "        for images, labels in tqdm(train_loader, desc=f\"Epoch {epoch+1}/{EPOCHS}\"):\n",
    "            images, labels = images.to(DEVICE), labels.to(DEVICE)\n",
    "            optimizer.zero_grad()\n",
    "            outputs = model(images)\n",
    "            loss = criterion(outputs, labels)\n",
    "            loss.backward()\n",
    "            optimizer.step()\n",
    "\n",
    "            train_loss += loss.item()\n",
    "            _, predicted = outputs.max(1)\n",
    "            total += labels.size(0)\n",
    "            correct += predicted.eq(labels).sum().item()\n",
    "\n",
    "        avg_loss = train_loss / len(train_loader)\n",
    "        acc = 100. * correct / total\n",
    "        train_losses.append(avg_loss)\n",
    "        train_accuracies.append(acc)\n",
    "        print(f\"✅ Train Loss: {avg_loss:.4f} | Train Acc: {acc:.2f}%\")\n",
    "\n",
    "        validate(model, val_loader)\n",
    "def validate(model, val_loader):\n",
    "    model.eval()\n",
    "    correct = 0\n",
    "    total = 0\n",
    "    val_loss = 0\n",
    "\n",
    "    with torch.no_grad():\n",
    "        for images, labels in val_loader:\n",
    "            images, labels = images.to(DEVICE), labels.to(DEVICE)\n",
    "            outputs = model(images)\n",
    "            val_loss += criterion(outputs, labels).item()\n",
    "            _, predicted = outputs.max(1)\n",
    "            total += labels.size(0)\n",
    "            correct += predicted.eq(labels).sum().item()\n",
    "\n",
    "    avg_loss = val_loss / len(val_loader)\n",
    "    acc = 100. * correct / total\n",
    "    val_losses.append(avg_loss)\n",
    "    val_accuracies.append(acc)\n",
    "    print(f\"Val Loss: {avg_loss:.4f} | Val Acc: {acc:.2f}%\")\n"
   ]
  },
  {
   "cell_type": "code",
   "execution_count": 8,
   "id": "0603ccf0",
   "metadata": {},
   "outputs": [
    {
     "name": "stderr",
     "output_type": "stream",
     "text": [
      "Epoch 1/10: 100%|██████████| 71/71 [04:21<00:00,  3.69s/it]\n"
     ]
    },
    {
     "name": "stdout",
     "output_type": "stream",
     "text": [
      "✅ Train Loss: 1.6961 | Train Acc: 56.45%\n",
      "Val Loss: 0.7417 | Val Acc: 78.19%\n"
     ]
    },
    {
     "name": "stderr",
     "output_type": "stream",
     "text": [
      "Epoch 2/10: 100%|██████████| 71/71 [04:24<00:00,  3.73s/it]\n"
     ]
    },
    {
     "name": "stdout",
     "output_type": "stream",
     "text": [
      "✅ Train Loss: 0.7138 | Train Acc: 77.65%\n",
      "Val Loss: 0.4209 | Val Acc: 84.04%\n"
     ]
    },
    {
     "name": "stderr",
     "output_type": "stream",
     "text": [
      "Epoch 3/10: 100%|██████████| 71/71 [05:00<00:00,  4.24s/it]\n"
     ]
    },
    {
     "name": "stdout",
     "output_type": "stream",
     "text": [
      "✅ Train Loss: 0.4527 | Train Acc: 84.88%\n",
      "Val Loss: 0.2769 | Val Acc: 89.36%\n"
     ]
    },
    {
     "name": "stderr",
     "output_type": "stream",
     "text": [
      "Epoch 4/10: 100%|██████████| 71/71 [05:02<00:00,  4.26s/it]\n"
     ]
    },
    {
     "name": "stdout",
     "output_type": "stream",
     "text": [
      "✅ Train Loss: 0.3266 | Train Acc: 88.69%\n",
      "Val Loss: 0.1510 | Val Acc: 94.50%\n"
     ]
    },
    {
     "name": "stderr",
     "output_type": "stream",
     "text": [
      "Epoch 5/10: 100%|██████████| 71/71 [04:50<00:00,  4.09s/it]\n"
     ]
    },
    {
     "name": "stdout",
     "output_type": "stream",
     "text": [
      "✅ Train Loss: 0.2325 | Train Acc: 91.84%\n",
      "Val Loss: 0.1319 | Val Acc: 95.57%\n"
     ]
    },
    {
     "name": "stderr",
     "output_type": "stream",
     "text": [
      "Epoch 6/10: 100%|██████████| 71/71 [04:51<00:00,  4.10s/it]\n"
     ]
    },
    {
     "name": "stdout",
     "output_type": "stream",
     "text": [
      "✅ Train Loss: 0.1787 | Train Acc: 93.66%\n",
      "Val Loss: 0.1166 | Val Acc: 96.10%\n"
     ]
    },
    {
     "name": "stderr",
     "output_type": "stream",
     "text": [
      "Epoch 7/10: 100%|██████████| 71/71 [04:51<00:00,  4.10s/it]\n"
     ]
    },
    {
     "name": "stdout",
     "output_type": "stream",
     "text": [
      "✅ Train Loss: 0.1562 | Train Acc: 94.41%\n",
      "Val Loss: 0.0785 | Val Acc: 97.87%\n"
     ]
    },
    {
     "name": "stderr",
     "output_type": "stream",
     "text": [
      "Epoch 8/10: 100%|██████████| 71/71 [04:53<00:00,  4.14s/it]\n"
     ]
    },
    {
     "name": "stdout",
     "output_type": "stream",
     "text": [
      "✅ Train Loss: 0.0968 | Train Acc: 96.54%\n",
      "Val Loss: 0.0462 | Val Acc: 98.76%\n"
     ]
    },
    {
     "name": "stderr",
     "output_type": "stream",
     "text": [
      "Epoch 9/10: 100%|██████████| 71/71 [04:49<00:00,  4.07s/it]\n"
     ]
    },
    {
     "name": "stdout",
     "output_type": "stream",
     "text": [
      "✅ Train Loss: 0.0974 | Train Acc: 96.59%\n",
      "Val Loss: 0.0300 | Val Acc: 98.94%\n"
     ]
    },
    {
     "name": "stderr",
     "output_type": "stream",
     "text": [
      "Epoch 10/10: 100%|██████████| 71/71 [04:51<00:00,  4.10s/it]\n"
     ]
    },
    {
     "name": "stdout",
     "output_type": "stream",
     "text": [
      "✅ Train Loss: 0.0679 | Train Acc: 97.65%\n",
      "Val Loss: 0.0516 | Val Acc: 98.23%\n"
     ]
    }
   ],
   "source": [
    "train(model, train_loader, val_loader)"
   ]
  },
  {
   "cell_type": "code",
   "execution_count": 9,
   "id": "2a851dc2",
   "metadata": {},
   "outputs": [],
   "source": [
    "# ============ Save Model ============\n",
    "torch.save(model.state_dict(), \"snake_classifie.pth\")"
   ]
  },
  {
   "cell_type": "code",
   "execution_count": 18,
   "id": "4996610e",
   "metadata": {},
   "outputs": [
    {
     "name": "stdout",
     "output_type": "stream",
     "text": [
      "✅ Accuracy: 98.23%\n",
      "📊 Classification Report:\n",
      "                 precision    recall  f1-score   support\n",
      "\n",
      "    ran_ho_mang       1.00      0.99      0.99       501\n",
      "   ran_rao_trau       0.95      0.94      0.94        63\n",
      "ran_luc_duoi_do       0.00      0.00      0.00         0\n",
      "       ran_nuoc       0.00      0.00      0.00         0\n",
      "   ran_cap_nong       0.00      0.00      0.00         0\n",
      "\n",
      "       accuracy                           0.98       564\n",
      "      macro avg       0.39      0.38      0.39       564\n",
      "   weighted avg       0.99      0.98      0.99       564\n",
      "\n"
     ]
    },
    {
     "data": {
      "image/png": "[encoded data removed]",
      "text/plain": [
       "<Figure size 800x600 with 2 Axes>"
      ]
     },
     "metadata": {},
     "output_type": "display_data"
    }
   ],
   "source": [
    "from sklearn.metrics import classification_report, confusion_matrix, ConfusionMatrixDisplay, accuracy_score\n",
    "import matplotlib.pyplot as plt\n",
    "\n",
    "y_true, y_pred = [], []\n",
    "model.eval()\n",
    "\n",
    "with torch.no_grad():\n",
    "    for i, (images, labels) in enumerate(val_loader):\n",
    "        try:\n",
    "            images = images.to(DEVICE)\n",
    "            outputs = model(images)\n",
    "            _, predicted = outputs.max(1)\n",
    "            y_true.extend(labels.cpu().numpy())\n",
    "            y_pred.extend(predicted.cpu().numpy())\n",
    "        except Exception as e:\n",
    "            print(f\"⚠️ Bỏ qua batch {i} do lỗi: {e}\")\n",
    "            continue\n",
    "\n",
    "# Tính accuracy\n",
    "acc = accuracy_score(y_true, y_pred)\n",
    "print(f\"✅ Accuracy: {acc * 100:.2f}%\")\n",
    "CLASS_NAMES = ['ran_ho_mang', 'ran_rao_trau', 'ran_luc_duoi_do', 'ran_nuoc', 'ran_cap_nong']\n",
    "\n",
    "# Báo cáo chi tiết từng lớp\n",
    "labels = list(range(len(CLASS_NAMES)))\n",
    "print(\"📊 Classification Report:\")\n",
    "print(classification_report(y_true, y_pred, target_names=CLASS_NAMES, labels=labels, zero_division=0))\n",
    "\n",
    "# Vẽ ma trận nhầm lẫn\n",
    "labels = list(range(len(CLASS_NAMES)))\n",
    "cm = confusion_matrix(y_true, y_pred, labels=labels)\n",
    "\n",
    "disp = ConfusionMatrixDisplay(confusion_matrix=cm, display_labels=CLASS_NAMES)\n",
    "fig, ax = plt.subplots(figsize=(8, 6))\n",
    "disp.plot(cmap=plt.cm.Blues, ax=ax)\n",
    "plt.title(\"Confusion Matrix - Snake Classifier\")\n",
    "plt.grid(False)\n",
    "plt.show()\n",
    "\n"
   ]
  },
  {
   "cell_type": "code",
   "execution_count": 11,
   "id": "f2b24038",
   "metadata": {},
   "outputs": [
    {
     "data": {
      "image/png": "[encoded data removed]",
      "text/plain": [
       "<Figure size 640x480 with 1 Axes>"
      ]
     },
     "metadata": {},
     "output_type": "display_data"
    }
   ],
   "source": [
    "import matplotlib.pyplot as plt\n",
    "\n",
    "plt.plot(train_accuracies, label='Train Accuracy')\n",
    "plt.plot(val_accuracies, label='Validation Accuracy')\n",
    "plt.xlabel(\"Epoch\")\n",
    "plt.ylabel(\"Accuracy (%)\")\n",
    "plt.title(\"Biểu đồ Accuracy\")\n",
    "plt.legend()\n",
    "plt.grid(True)\n",
    "plt.show()\n"
   ]
  }
 ],
 "metadata": {
  "kernelspec": {
   "display_name": "Python 3",
   "language": "python",
   "name": "python3"
  },
  "language_info": {
   "codemirror_mode": {
    "name": "ipython",
    "version": 3
   },
   "file_extension": ".py",
   "mimetype": "text/x-python",
   "name": "python",
   "nbconvert_exporter": "python",
   "pygments_lexer": "ipython3",
   "version": "3.12.9"
  }
 },
 "nbformat": 4,
 "nbformat_minor": 5
}
